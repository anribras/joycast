{
 "cells": [
  {
   "cell_type": "code",
   "execution_count": 2,
   "id": "9d68c144",
   "metadata": {},
   "outputs": [],
   "source": [
    "import json\n"
   ]
  },
  {
   "cell_type": "code",
   "execution_count": 3,
   "id": "74304ec0",
   "metadata": {},
   "outputs": [
    {
     "data": {
      "text/plain": [
       "'/Users/bravo/Projects/python/xiangting'"
      ]
     },
     "execution_count": 3,
     "metadata": {},
     "output_type": "execute_result"
    }
   ],
   "source": [
    "pwd"
   ]
  },
  {
   "cell_type": "code",
   "execution_count": 4,
   "id": "51cf23a3",
   "metadata": {},
   "outputs": [
    {
     "name": "stdout",
     "output_type": "stream",
     "text": [
      "3000\n"
     ]
    }
   ],
   "source": [
    "with open('rss_crawler/jsons/xima_targets.json','r') as f:\n",
    "    j = json.load(f)\n",
    "    sumer = 0\n",
    "    for key in j:\n",
    "        lists = j[key]\n",
    "        sumer += len(lists)\n",
    "        for l in lists:\n",
    "            pass\n",
    "#            print('https://www.ximalaya.com'+l['link'])\n",
    "    print(sumer)"
   ]
  },
  {
   "cell_type": "code",
   "execution_count": 1,
   "id": "302a9ce1",
   "metadata": {},
   "outputs": [],
   "source": [
    "import requests"
   ]
  },
  {
   "cell_type": "code",
   "execution_count": 3,
   "id": "386d57b5",
   "metadata": {},
   "outputs": [],
   "source": [
    "r = requests.get('https://www.ximalaya.com/album/260744.xml')"
   ]
  },
  {
   "cell_type": "code",
   "execution_count": 5,
   "id": "008e0924",
   "metadata": {},
   "outputs": [],
   "source": [
    "r1 = requests.get('https://www.ximalaya.com/album/41418263.xml')"
   ]
  },
  {
   "cell_type": "code",
   "execution_count": 6,
   "id": "77724494",
   "metadata": {},
   "outputs": [
    {
     "data": {
      "text/plain": [
       "b''"
      ]
     },
     "execution_count": 6,
     "metadata": {},
     "output_type": "execute_result"
    }
   ],
   "source": [
    "r1.content"
   ]
  },
  {
   "cell_type": "code",
   "execution_count": 7,
   "id": "31c9c290",
   "metadata": {},
   "outputs": [
    {
     "data": {
      "text/plain": [
       "False"
      ]
     },
     "execution_count": 7,
     "metadata": {},
     "output_type": "execute_result"
    }
   ],
   "source": [
    "r1.content is None"
   ]
  },
  {
   "cell_type": "code",
   "execution_count": 8,
   "id": "d25de7be",
   "metadata": {},
   "outputs": [
    {
     "ename": "AttributeError",
     "evalue": "can't set attribute 'content'",
     "output_type": "error",
     "traceback": [
      "\u001b[0;31m---------------------------------------------------------------------------\u001b[0m",
      "\u001b[0;31mAttributeError\u001b[0m                            Traceback (most recent call last)",
      "Input \u001b[0;32mIn [8]\u001b[0m, in \u001b[0;36m<module>\u001b[0;34m\u001b[0m\n\u001b[0;32m----> 1\u001b[0m r1\u001b[38;5;241m.\u001b[39mcontent \u001b[38;5;241m=\u001b[39m \u001b[38;5;124m'\u001b[39m\u001b[38;5;124m'\u001b[39m\n",
      "\u001b[0;31mAttributeError\u001b[0m: can't set attribute 'content'"
     ]
    }
   ],
   "source": [
    "r1.content = ''"
   ]
  },
  {
   "cell_type": "code",
   "execution_count": 9,
   "id": "ad310d25",
   "metadata": {},
   "outputs": [
    {
     "data": {
      "text/plain": [
       "False"
      ]
     },
     "execution_count": 9,
     "metadata": {},
     "output_type": "execute_result"
    }
   ],
   "source": [
    "r1.content == ''"
   ]
  },
  {
   "cell_type": "code",
   "execution_count": 10,
   "id": "df02cc8e",
   "metadata": {},
   "outputs": [
    {
     "data": {
      "text/plain": [
       "b''"
      ]
     },
     "execution_count": 10,
     "metadata": {},
     "output_type": "execute_result"
    }
   ],
   "source": [
    "r1.content"
   ]
  },
  {
   "cell_type": "code",
   "execution_count": 11,
   "id": "25ac88a6",
   "metadata": {},
   "outputs": [
    {
     "data": {
      "text/plain": [
       "0"
      ]
     },
     "execution_count": 11,
     "metadata": {},
     "output_type": "execute_result"
    }
   ],
   "source": [
    "len(r1.content)"
   ]
  },
  {
   "cell_type": "code",
   "execution_count": 12,
   "id": "def8c940",
   "metadata": {},
   "outputs": [
    {
     "data": {
      "text/plain": [
       "''"
      ]
     },
     "execution_count": 12,
     "metadata": {},
     "output_type": "execute_result"
    }
   ],
   "source": [
    "r1.text"
   ]
  },
  {
   "cell_type": "code",
   "execution_count": 13,
   "id": "8efd00a2",
   "metadata": {},
   "outputs": [
    {
     "data": {
      "text/plain": [
       "False"
      ]
     },
     "execution_count": 13,
     "metadata": {},
     "output_type": "execute_result"
    }
   ],
   "source": [
    "r1.text is None"
   ]
  },
  {
   "cell_type": "code",
   "execution_count": 14,
   "id": "753e532e",
   "metadata": {},
   "outputs": [
    {
     "data": {
      "text/plain": [
       "True"
      ]
     },
     "execution_count": 14,
     "metadata": {},
     "output_type": "execute_result"
    }
   ],
   "source": [
    "r1.text == ''"
   ]
  },
  {
   "cell_type": "code",
   "execution_count": 15,
   "id": "2bc36ed7",
   "metadata": {},
   "outputs": [
    {
     "data": {
      "text/plain": [
       "False"
      ]
     },
     "execution_count": 15,
     "metadata": {},
     "output_type": "execute_result"
    }
   ],
   "source": [
    "r1.text != ''"
   ]
  },
  {
   "cell_type": "code",
   "execution_count": 19,
   "id": "7a47a6ad",
   "metadata": {},
   "outputs": [],
   "source": [
    "a={}"
   ]
  },
  {
   "cell_type": "code",
   "execution_count": 20,
   "id": "4b6a250a",
   "metadata": {},
   "outputs": [],
   "source": [
    "a.update({'b':1})"
   ]
  },
  {
   "cell_type": "code",
   "execution_count": 21,
   "id": "41442e7a",
   "metadata": {},
   "outputs": [
    {
     "data": {
      "text/plain": [
       "{'b': 1}"
      ]
     },
     "execution_count": 21,
     "metadata": {},
     "output_type": "execute_result"
    }
   ],
   "source": [
    "a"
   ]
  },
  {
   "cell_type": "code",
   "execution_count": null,
   "id": "30f0bcb4",
   "metadata": {},
   "outputs": [],
   "source": []
  },
  {
   "cell_type": "code",
   "execution_count": 22,
   "id": "eaf845f1",
   "metadata": {},
   "outputs": [],
   "source": [
    "a.update({'b':2})"
   ]
  },
  {
   "cell_type": "code",
   "execution_count": 23,
   "id": "b22723e4",
   "metadata": {},
   "outputs": [
    {
     "data": {
      "text/plain": [
       "{'b': 2}"
      ]
     },
     "execution_count": 23,
     "metadata": {},
     "output_type": "execute_result"
    }
   ],
   "source": [
    "a"
   ]
  },
  {
   "cell_type": "code",
   "execution_count": null,
   "id": "dedeed23",
   "metadata": {},
   "outputs": [],
   "source": [
    "a.update({''})"
   ]
  }
 ],
 "metadata": {
  "kernelspec": {
   "display_name": "Python 3 (ipykernel)",
   "language": "python",
   "name": "python3"
  },
  "language_info": {
   "codemirror_mode": {
    "name": "ipython",
    "version": 3
   },
   "file_extension": ".py",
   "mimetype": "text/x-python",
   "name": "python",
   "nbconvert_exporter": "python",
   "pygments_lexer": "ipython3",
   "version": "3.10.2"
  }
 },
 "nbformat": 4,
 "nbformat_minor": 5
}
